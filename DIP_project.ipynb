{
  "cells": [
    {
      "cell_type": "markdown",
      "metadata": {
        "id": "view-in-github",
        "colab_type": "text"
      },
      "source": [
        "<a href=\"https://colab.research.google.com/github/Noreen999/Digital-Image-Processing/blob/main/DIP_project.ipynb\" target=\"_parent\"><img src=\"https://colab.research.google.com/assets/colab-badge.svg\" alt=\"Open In Colab\"/></a>"
      ]
    },
    {
      "cell_type": "markdown",
      "source": [
        "#DIP project"
      ],
      "metadata": {
        "id": "zvgYHfKae-T8"
      }
    },
    {
      "cell_type": "markdown",
      "source": [
        "##Install libraries"
      ],
      "metadata": {
        "id": "nkeoUgn7XTm9"
      }
    },
    {
      "cell_type": "code",
      "source": [
        "from google.colab import drive\n",
        "drive.mount('/content/drive')"
      ],
      "metadata": {
        "id": "y_79_3BGXwMA",
        "colab": {
          "base_uri": "https://localhost:8080/"
        },
        "outputId": "823fd41e-d1a3-4851-cd75-b0b0b891ec47"
      },
      "execution_count": 2,
      "outputs": [
        {
          "output_type": "stream",
          "name": "stdout",
          "text": [
            "Mounted at /content/drive\n"
          ]
        }
      ]
    },
    {
      "cell_type": "code",
      "execution_count": 3,
      "metadata": {
        "colab": {
          "base_uri": "https://localhost:8080/"
        },
        "id": "6gI1JYDKXk8W",
        "outputId": "74a66ebf-91ac-4df4-9c00-b924c491e039"
      },
      "outputs": [
        {
          "output_type": "stream",
          "name": "stdout",
          "text": [
            "Requirement already satisfied: opencv-python in /usr/local/lib/python3.10/dist-packages (4.10.0.84)\n",
            "Requirement already satisfied: pillow in /usr/local/lib/python3.10/dist-packages (11.0.0)\n",
            "Requirement already satisfied: numpy>=1.21.2 in /usr/local/lib/python3.10/dist-packages (from opencv-python) (1.26.4)\n",
            "Requirement already satisfied: numpy in /usr/local/lib/python3.10/dist-packages (1.26.4)\n",
            "Requirement already satisfied: matplotlib in /usr/local/lib/python3.10/dist-packages (3.8.0)\n",
            "Requirement already satisfied: contourpy>=1.0.1 in /usr/local/lib/python3.10/dist-packages (from matplotlib) (1.3.1)\n",
            "Requirement already satisfied: cycler>=0.10 in /usr/local/lib/python3.10/dist-packages (from matplotlib) (0.12.1)\n",
            "Requirement already satisfied: fonttools>=4.22.0 in /usr/local/lib/python3.10/dist-packages (from matplotlib) (4.55.3)\n",
            "Requirement already satisfied: kiwisolver>=1.0.1 in /usr/local/lib/python3.10/dist-packages (from matplotlib) (1.4.7)\n",
            "Requirement already satisfied: numpy<2,>=1.21 in /usr/local/lib/python3.10/dist-packages (from matplotlib) (1.26.4)\n",
            "Requirement already satisfied: packaging>=20.0 in /usr/local/lib/python3.10/dist-packages (from matplotlib) (24.2)\n",
            "Requirement already satisfied: pillow>=6.2.0 in /usr/local/lib/python3.10/dist-packages (from matplotlib) (11.0.0)\n",
            "Requirement already satisfied: pyparsing>=2.3.1 in /usr/local/lib/python3.10/dist-packages (from matplotlib) (3.2.0)\n",
            "Requirement already satisfied: python-dateutil>=2.7 in /usr/local/lib/python3.10/dist-packages (from matplotlib) (2.8.2)\n",
            "Requirement already satisfied: six>=1.5 in /usr/local/lib/python3.10/dist-packages (from python-dateutil>=2.7->matplotlib) (1.17.0)\n",
            "Requirement already satisfied: torch in /usr/local/lib/python3.10/dist-packages (2.5.1+cu121)\n",
            "Requirement already satisfied: filelock in /usr/local/lib/python3.10/dist-packages (from torch) (3.16.1)\n",
            "Requirement already satisfied: typing-extensions>=4.8.0 in /usr/local/lib/python3.10/dist-packages (from torch) (4.12.2)\n",
            "Requirement already satisfied: networkx in /usr/local/lib/python3.10/dist-packages (from torch) (3.4.2)\n",
            "Requirement already satisfied: jinja2 in /usr/local/lib/python3.10/dist-packages (from torch) (3.1.4)\n",
            "Requirement already satisfied: fsspec in /usr/local/lib/python3.10/dist-packages (from torch) (2024.10.0)\n",
            "Requirement already satisfied: sympy==1.13.1 in /usr/local/lib/python3.10/dist-packages (from torch) (1.13.1)\n",
            "Requirement already satisfied: mpmath<1.4,>=1.1.0 in /usr/local/lib/python3.10/dist-packages (from sympy==1.13.1->torch) (1.3.0)\n",
            "Requirement already satisfied: MarkupSafe>=2.0 in /usr/local/lib/python3.10/dist-packages (from jinja2->torch) (3.0.2)\n"
          ]
        }
      ],
      "source": [
        "!pip install opencv-python pillow\n",
        "!pip install numpy\n",
        "!pip install matplotlib\n",
        "!pip install torch\n",
        "\n"
      ]
    },
    {
      "cell_type": "markdown",
      "source": [
        "## Import Libraries"
      ],
      "metadata": {
        "id": "B8Vh48TYX4sG"
      }
    },
    {
      "cell_type": "code",
      "source": [
        "import cv2\n",
        "import numpy as np\n",
        "from IPython.display import display, Image\n",
        "import os\n"
      ],
      "metadata": {
        "id": "V-E4izDOYSFj"
      },
      "execution_count": 4,
      "outputs": []
    },
    {
      "cell_type": "markdown",
      "metadata": {
        "id": "jstGI0E_X2z4"
      },
      "source": [
        "# Step 1. Reading and preparing our frame"
      ]
    },
    {
      "cell_type": "code",
      "execution_count": 5,
      "metadata": {
        "colab": {
          "base_uri": "https://localhost:8080/"
        },
        "id": "8DPR1tMAYZC-",
        "outputId": "d4d14a40-7363-4654-e674-1d736db22300"
      },
      "outputs": [
        {
          "output_type": "stream",
          "name": "stdout",
          "text": [
            "Requirement already satisfied: opencv-python in /usr/local/lib/python3.10/dist-packages (4.10.0.84)\n",
            "Requirement already satisfied: pillow in /usr/local/lib/python3.10/dist-packages (11.0.0)\n",
            "Requirement already satisfied: numpy>=1.21.2 in /usr/local/lib/python3.10/dist-packages (from opencv-python) (1.26.4)\n"
          ]
        }
      ],
      "source": [
        "!pip install opencv-python pillow\n"
      ]
    },
    {
      "cell_type": "code",
      "source": [
        "# Function to process the video and track motion using basic image processing techniques\n",
        "def motion_detector_video(video_path, output_folder):\n",
        "    cap = cv2.VideoCapture(video_path)\n",
        "    previous_frame = None\n",
        "    frame_count = 0\n",
        "\n",
        "    if not os.path.exists(output_folder):\n",
        "        os.makedirs(output_folder)\n",
        "\n",
        "    while cap.isOpened():\n",
        "        ret, frame = cap.read()\n",
        "        if not ret:\n",
        "            break\n",
        "\n",
        "        # Convert frame to grayscale\n",
        "        prepared_frame = cv2.cvtColor(frame, cv2.COLOR_BGR2GRAY)\n",
        "        prepared_frame = cv2.GaussianBlur(src=prepared_frame, ksize=(5, 5), sigmaX=0)\n",
        "\n",
        "        if previous_frame is None:\n",
        "            previous_frame = prepared_frame\n",
        "            continue\n",
        "\n",
        "        # Calculate difference between current frame and previous frame\n",
        "        diff_frame = cv2.absdiff(src1=previous_frame, src2=prepared_frame)\n",
        "        previous_frame = prepared_frame\n",
        "\n",
        "        # Dilate the difference image\n",
        "        kernel = np.ones((5, 5))\n",
        "        diff_frame = cv2.dilate(diff_frame, kernel, 1)\n",
        "\n",
        "        # Threshold the difference image\n",
        "        thresh_frame = cv2.threshold(src=diff_frame, thresh=20, maxval=255, type=cv2.THRESH_BINARY)[1]\n",
        "\n",
        "        # Find contours in the thresholded image\n",
        "        contours, _ = cv2.findContours(image=thresh_frame, mode=cv2.RETR_EXTERNAL, method=cv2.CHAIN_APPROX_SIMPLE)\n",
        "\n",
        "        # Draw rectangles around the detected contours\n",
        "        for contour in contours:\n",
        "            if cv2.contourArea(contour) < 50:\n",
        "                continue\n",
        "            (x, y, w, h) = cv2.boundingRect(contour)\n",
        "            cv2.rectangle(img=frame, pt1=(x, y), pt2=(x + w, y + h), color=(0, 255, 0), thickness=2)\n",
        "\n",
        "        # Save the frame as an image file\n",
        "        output_path = os.path.join(output_folder, f\"frame_{frame_count}.png\")\n",
        "        cv2.imwrite(output_path, frame)\n",
        "        frame_count += 1\n",
        "\n",
        "    cap.release()\n",
        "    cv2.destroyAllWindows()\n"
      ],
      "metadata": {
        "id": "ugxpQ5NYYn_Q"
      },
      "execution_count": 6,
      "outputs": []
    },
    {
      "cell_type": "markdown",
      "source": [
        "##Run"
      ],
      "metadata": {
        "id": "_uD00k26YxO9"
      }
    },
    {
      "cell_type": "markdown",
      "source": [
        "## generate new video with featues"
      ],
      "metadata": {
        "id": "52wV26aWaNmG"
      }
    },
    {
      "cell_type": "code",
      "source": [
        "import cv2\n",
        "import os\n",
        "\n",
        "def create_video_from_frames(input_folder, output_folder, output_video_name):\n",
        "    # Ensure the output folder exists\n",
        "    if not os.path.exists(output_folder):\n",
        "        os.makedirs(output_folder)\n",
        "\n",
        "    # Make sure the output video name has a valid extension\n",
        "    if not output_video_name.lower().endswith(('.mp4', '.avi')):\n",
        "        print(\"Error: Output video name must have a .mp4 or .avi extension\")\n",
        "        return\n",
        "\n",
        "    output_video_path = os.path.join(output_folder, output_video_name)\n",
        "\n",
        "    # Get all the frames from the input folder\n",
        "    frames = [f for f in os.listdir(input_folder) if f.endswith('.png')]\n",
        "    frames.sort(key=lambda x: int(x.split('_')[1].split('.')[0]))  # Sort by frame number\n",
        "\n",
        "    if not frames:\n",
        "        print(\"Error: No frames found in the input folder\")\n",
        "        return\n",
        "\n",
        "    # Create a VideoWriter object\n",
        "    first_frame_path = os.path.join(input_folder, frames[0])\n",
        "    first_frame = cv2.imread(first_frame_path)\n",
        "    if first_frame is None:\n",
        "        print(\"Error: Unable to read the first frame\")\n",
        "        return\n",
        "\n",
        "    frame_size = (first_frame.shape[1], first_frame.shape[0])\n",
        "    fourcc = cv2.VideoWriter_fourcc(*'mp4v')  # or use 'XVID' for .avi format\n",
        "    video_writer = cv2.VideoWriter(output_video_path, fourcc, 30.0, frame_size)  # 30 fps\n",
        "\n",
        "    for frame_name in frames:\n",
        "        frame_path = os.path.join(input_folder, frame_name)\n",
        "        frame = cv2.imread(frame_path)\n",
        "        if frame is None:\n",
        "            print(f\"Warning: Unable to read frame {frame_name}\")\n",
        "            continue\n",
        "        video_writer.write(frame)  # Write the frame to the video\n",
        "\n",
        "    video_writer.release()\n",
        "    print(f\"Video saved to {output_video_path}\")\n",
        "\n",
        "# Example paths\n",
        "input_folder = '/content/frames'  # Directory containing the frames\n",
        "output_folder = '/content'  # Directory where the video will be saved\n",
        "output_video_name = 'new_video.mp4'  # Ensure it has a valid extension\n",
        "\n",
        "create_video_from_frames(input_folder, output_folder, output_video_name)\n"
      ],
      "metadata": {
        "colab": {
          "base_uri": "https://localhost:8080/"
        },
        "id": "KxXAVKV6a83l",
        "outputId": "98d722cc-54c9-4c75-acb4-e0461a61f900"
      },
      "execution_count": 8,
      "outputs": [
        {
          "output_type": "stream",
          "name": "stdout",
          "text": [
            "Video saved to /content/new_video.mp4\n"
          ]
        }
      ]
    },
    {
      "cell_type": "markdown",
      "source": [
        "# Apply on Project"
      ],
      "metadata": {
        "id": "EmZhsbOLe6Vx"
      }
    },
    {
      "cell_type": "code",
      "source": [
        "# Example video path and output folder\n",
        "video_path = '/content/vedio.mp4'\n",
        "output_folder = '/content/frames'\n",
        "motion_detector_video(video_path, output_folder)"
      ],
      "metadata": {
        "id": "Xu2l2xjJe57J"
      },
      "execution_count": 18,
      "outputs": []
    }
  ],
  "metadata": {
    "accelerator": "GPU",
    "colab": {
      "gpuType": "T4",
      "provenance": [],
      "include_colab_link": true
    },
    "kernelspec": {
      "display_name": "Python 3",
      "name": "python3"
    },
    "language_info": {
      "name": "python"
    }
  },
  "nbformat": 4,
  "nbformat_minor": 0
}